{
 "cells": [
  {
   "cell_type": "code",
   "execution_count": 1,
   "metadata": {},
   "outputs": [],
   "source": [
    "import pandas as pd\n",
    "import matplotlib.pyplot as plt\n",
    "import numpy as np\n",
    "import sklearn\n",
    "import seaborn as sns\n",
    "from sklearn import preprocessing"
   ]
  },
  {
   "cell_type": "code",
   "execution_count": 2,
   "metadata": {},
   "outputs": [
    {
     "data": {
      "text/html": [
       "<div>\n",
       "<style scoped>\n",
       "    .dataframe tbody tr th:only-of-type {\n",
       "        vertical-align: middle;\n",
       "    }\n",
       "\n",
       "    .dataframe tbody tr th {\n",
       "        vertical-align: top;\n",
       "    }\n",
       "\n",
       "    .dataframe thead th {\n",
       "        text-align: right;\n",
       "    }\n",
       "</style>\n",
       "<table border=\"1\" class=\"dataframe\">\n",
       "  <thead>\n",
       "    <tr style=\"text-align: right;\">\n",
       "      <th></th>\n",
       "      <th>Manufacturer</th>\n",
       "      <th>Model</th>\n",
       "      <th>Sales_in_thousands</th>\n",
       "      <th>__year_resale_value</th>\n",
       "      <th>Vehicle_type</th>\n",
       "      <th>Price_in_thousands</th>\n",
       "      <th>Engine_size</th>\n",
       "      <th>Horsepower</th>\n",
       "      <th>Wheelbase</th>\n",
       "      <th>Width</th>\n",
       "      <th>Length</th>\n",
       "      <th>Curb_weight</th>\n",
       "      <th>Fuel_capacity</th>\n",
       "      <th>Fuel_efficiency</th>\n",
       "      <th>Latest_Launch</th>\n",
       "      <th>Power_perf_factor</th>\n",
       "    </tr>\n",
       "  </thead>\n",
       "  <tbody>\n",
       "    <tr>\n",
       "      <th>0</th>\n",
       "      <td>Acura</td>\n",
       "      <td>Integra</td>\n",
       "      <td>16.919</td>\n",
       "      <td>16.360</td>\n",
       "      <td>Passenger</td>\n",
       "      <td>21.50</td>\n",
       "      <td>1.8</td>\n",
       "      <td>140.0</td>\n",
       "      <td>101.2</td>\n",
       "      <td>67.3</td>\n",
       "      <td>172.4</td>\n",
       "      <td>2.639</td>\n",
       "      <td>13.2</td>\n",
       "      <td>28.0</td>\n",
       "      <td>2/2/2012</td>\n",
       "      <td>58.280150</td>\n",
       "    </tr>\n",
       "    <tr>\n",
       "      <th>1</th>\n",
       "      <td>Acura</td>\n",
       "      <td>TL</td>\n",
       "      <td>39.384</td>\n",
       "      <td>19.875</td>\n",
       "      <td>Passenger</td>\n",
       "      <td>28.40</td>\n",
       "      <td>3.2</td>\n",
       "      <td>225.0</td>\n",
       "      <td>108.1</td>\n",
       "      <td>70.3</td>\n",
       "      <td>192.9</td>\n",
       "      <td>3.517</td>\n",
       "      <td>17.2</td>\n",
       "      <td>25.0</td>\n",
       "      <td>6/3/2011</td>\n",
       "      <td>91.370778</td>\n",
       "    </tr>\n",
       "    <tr>\n",
       "      <th>2</th>\n",
       "      <td>Acura</td>\n",
       "      <td>CL</td>\n",
       "      <td>14.114</td>\n",
       "      <td>18.225</td>\n",
       "      <td>Passenger</td>\n",
       "      <td>NaN</td>\n",
       "      <td>3.2</td>\n",
       "      <td>225.0</td>\n",
       "      <td>106.9</td>\n",
       "      <td>70.6</td>\n",
       "      <td>192.0</td>\n",
       "      <td>3.470</td>\n",
       "      <td>17.2</td>\n",
       "      <td>26.0</td>\n",
       "      <td>1/4/2012</td>\n",
       "      <td>NaN</td>\n",
       "    </tr>\n",
       "    <tr>\n",
       "      <th>3</th>\n",
       "      <td>Acura</td>\n",
       "      <td>RL</td>\n",
       "      <td>8.588</td>\n",
       "      <td>29.725</td>\n",
       "      <td>Passenger</td>\n",
       "      <td>42.00</td>\n",
       "      <td>3.5</td>\n",
       "      <td>210.0</td>\n",
       "      <td>114.6</td>\n",
       "      <td>71.4</td>\n",
       "      <td>196.6</td>\n",
       "      <td>3.850</td>\n",
       "      <td>18.0</td>\n",
       "      <td>22.0</td>\n",
       "      <td>3/10/2011</td>\n",
       "      <td>91.389779</td>\n",
       "    </tr>\n",
       "    <tr>\n",
       "      <th>4</th>\n",
       "      <td>Audi</td>\n",
       "      <td>A4</td>\n",
       "      <td>20.397</td>\n",
       "      <td>22.255</td>\n",
       "      <td>Passenger</td>\n",
       "      <td>23.99</td>\n",
       "      <td>1.8</td>\n",
       "      <td>150.0</td>\n",
       "      <td>102.6</td>\n",
       "      <td>68.2</td>\n",
       "      <td>178.0</td>\n",
       "      <td>2.998</td>\n",
       "      <td>16.4</td>\n",
       "      <td>27.0</td>\n",
       "      <td>10/8/2011</td>\n",
       "      <td>62.777639</td>\n",
       "    </tr>\n",
       "  </tbody>\n",
       "</table>\n",
       "</div>"
      ],
      "text/plain": [
       "  Manufacturer    Model  Sales_in_thousands  __year_resale_value Vehicle_type  \\\n",
       "0        Acura  Integra              16.919               16.360    Passenger   \n",
       "1        Acura       TL              39.384               19.875    Passenger   \n",
       "2        Acura       CL              14.114               18.225    Passenger   \n",
       "3        Acura       RL               8.588               29.725    Passenger   \n",
       "4         Audi       A4              20.397               22.255    Passenger   \n",
       "\n",
       "   Price_in_thousands  Engine_size  Horsepower  Wheelbase  Width  Length  \\\n",
       "0               21.50          1.8       140.0      101.2   67.3   172.4   \n",
       "1               28.40          3.2       225.0      108.1   70.3   192.9   \n",
       "2                 NaN          3.2       225.0      106.9   70.6   192.0   \n",
       "3               42.00          3.5       210.0      114.6   71.4   196.6   \n",
       "4               23.99          1.8       150.0      102.6   68.2   178.0   \n",
       "\n",
       "   Curb_weight  Fuel_capacity  Fuel_efficiency Latest_Launch  \\\n",
       "0        2.639           13.2             28.0      2/2/2012   \n",
       "1        3.517           17.2             25.0      6/3/2011   \n",
       "2        3.470           17.2             26.0      1/4/2012   \n",
       "3        3.850           18.0             22.0     3/10/2011   \n",
       "4        2.998           16.4             27.0     10/8/2011   \n",
       "\n",
       "   Power_perf_factor  \n",
       "0          58.280150  \n",
       "1          91.370778  \n",
       "2                NaN  \n",
       "3          91.389779  \n",
       "4          62.777639  "
      ]
     },
     "execution_count": 2,
     "metadata": {},
     "output_type": "execute_result"
    }
   ],
   "source": [
    "df = pd.read_csv(r'C:/Users/Nathan/Desktop/car_sales.csv')\n",
    "df.head()"
   ]
  },
  {
   "cell_type": "code",
   "execution_count": 3,
   "metadata": {},
   "outputs": [],
   "source": [
    "#Replace NaN with mean()\n",
    "df['Engine_size'].fillna((df['Engine_size'].mean()), inplace=True)\n",
    "df['Horsepower'].fillna((df['Horsepower'].mean()), inplace=True)\n",
    "df['__year_resale_value'].fillna((df['__year_resale_value'].mean()), inplace=True)\n",
    "df['Price_in_thousands'].fillna((df['Price_in_thousands'].mean()), inplace=True)\n",
    "df['Power_perf_factor'].fillna((df['Power_perf_factor'].mean()), inplace=True)\n",
    "df['Fuel_capacity'].fillna((df['Fuel_capacity'].mean()), inplace=True)\n",
    "df['Curb_weight'].fillna((df['Curb_weight'].mean()), inplace=True)"
   ]
  },
  {
   "cell_type": "code",
   "execution_count": 4,
   "metadata": {},
   "outputs": [
    {
     "data": {
      "text/html": [
       "<div>\n",
       "<style scoped>\n",
       "    .dataframe tbody tr th:only-of-type {\n",
       "        vertical-align: middle;\n",
       "    }\n",
       "\n",
       "    .dataframe tbody tr th {\n",
       "        vertical-align: top;\n",
       "    }\n",
       "\n",
       "    .dataframe thead th {\n",
       "        text-align: right;\n",
       "    }\n",
       "</style>\n",
       "<table border=\"1\" class=\"dataframe\">\n",
       "  <thead>\n",
       "    <tr style=\"text-align: right;\">\n",
       "      <th></th>\n",
       "      <th>Manufacturer</th>\n",
       "      <th>Model</th>\n",
       "      <th>Sales_in_thousands</th>\n",
       "      <th>__year_resale_value</th>\n",
       "      <th>Vehicle_type</th>\n",
       "      <th>Price_in_thousands</th>\n",
       "      <th>Engine_size</th>\n",
       "      <th>Horsepower</th>\n",
       "      <th>Wheelbase</th>\n",
       "      <th>Width</th>\n",
       "      <th>Length</th>\n",
       "      <th>Curb_weight</th>\n",
       "      <th>Fuel_capacity</th>\n",
       "      <th>Fuel_efficiency</th>\n",
       "      <th>Latest_Launch</th>\n",
       "      <th>Power_perf_factor</th>\n",
       "    </tr>\n",
       "  </thead>\n",
       "  <tbody>\n",
       "    <tr>\n",
       "      <th>0</th>\n",
       "      <td>Acura</td>\n",
       "      <td>Integra</td>\n",
       "      <td>16.919</td>\n",
       "      <td>16.360000</td>\n",
       "      <td>Passenger</td>\n",
       "      <td>21.500000</td>\n",
       "      <td>1.8</td>\n",
       "      <td>140.0</td>\n",
       "      <td>101.2</td>\n",
       "      <td>67.3</td>\n",
       "      <td>172.4</td>\n",
       "      <td>2.639000</td>\n",
       "      <td>13.2</td>\n",
       "      <td>28.0</td>\n",
       "      <td>2/2/2012</td>\n",
       "      <td>58.280150</td>\n",
       "    </tr>\n",
       "    <tr>\n",
       "      <th>1</th>\n",
       "      <td>Acura</td>\n",
       "      <td>TL</td>\n",
       "      <td>39.384</td>\n",
       "      <td>19.875000</td>\n",
       "      <td>Passenger</td>\n",
       "      <td>28.400000</td>\n",
       "      <td>3.2</td>\n",
       "      <td>225.0</td>\n",
       "      <td>108.1</td>\n",
       "      <td>70.3</td>\n",
       "      <td>192.9</td>\n",
       "      <td>3.517000</td>\n",
       "      <td>17.2</td>\n",
       "      <td>25.0</td>\n",
       "      <td>6/3/2011</td>\n",
       "      <td>91.370778</td>\n",
       "    </tr>\n",
       "    <tr>\n",
       "      <th>2</th>\n",
       "      <td>Acura</td>\n",
       "      <td>CL</td>\n",
       "      <td>14.114</td>\n",
       "      <td>18.225000</td>\n",
       "      <td>Passenger</td>\n",
       "      <td>27.390755</td>\n",
       "      <td>3.2</td>\n",
       "      <td>225.0</td>\n",
       "      <td>106.9</td>\n",
       "      <td>70.6</td>\n",
       "      <td>192.0</td>\n",
       "      <td>3.470000</td>\n",
       "      <td>17.2</td>\n",
       "      <td>26.0</td>\n",
       "      <td>1/4/2012</td>\n",
       "      <td>77.043591</td>\n",
       "    </tr>\n",
       "    <tr>\n",
       "      <th>3</th>\n",
       "      <td>Acura</td>\n",
       "      <td>RL</td>\n",
       "      <td>8.588</td>\n",
       "      <td>29.725000</td>\n",
       "      <td>Passenger</td>\n",
       "      <td>42.000000</td>\n",
       "      <td>3.5</td>\n",
       "      <td>210.0</td>\n",
       "      <td>114.6</td>\n",
       "      <td>71.4</td>\n",
       "      <td>196.6</td>\n",
       "      <td>3.850000</td>\n",
       "      <td>18.0</td>\n",
       "      <td>22.0</td>\n",
       "      <td>3/10/2011</td>\n",
       "      <td>91.389779</td>\n",
       "    </tr>\n",
       "    <tr>\n",
       "      <th>4</th>\n",
       "      <td>Audi</td>\n",
       "      <td>A4</td>\n",
       "      <td>20.397</td>\n",
       "      <td>22.255000</td>\n",
       "      <td>Passenger</td>\n",
       "      <td>23.990000</td>\n",
       "      <td>1.8</td>\n",
       "      <td>150.0</td>\n",
       "      <td>102.6</td>\n",
       "      <td>68.2</td>\n",
       "      <td>178.0</td>\n",
       "      <td>2.998000</td>\n",
       "      <td>16.4</td>\n",
       "      <td>27.0</td>\n",
       "      <td>10/8/2011</td>\n",
       "      <td>62.777639</td>\n",
       "    </tr>\n",
       "    <tr>\n",
       "      <th>5</th>\n",
       "      <td>Audi</td>\n",
       "      <td>A6</td>\n",
       "      <td>18.780</td>\n",
       "      <td>23.555000</td>\n",
       "      <td>Passenger</td>\n",
       "      <td>33.950000</td>\n",
       "      <td>2.8</td>\n",
       "      <td>200.0</td>\n",
       "      <td>108.7</td>\n",
       "      <td>76.1</td>\n",
       "      <td>192.0</td>\n",
       "      <td>3.561000</td>\n",
       "      <td>18.5</td>\n",
       "      <td>22.0</td>\n",
       "      <td>8/9/2011</td>\n",
       "      <td>84.565105</td>\n",
       "    </tr>\n",
       "    <tr>\n",
       "      <th>6</th>\n",
       "      <td>Audi</td>\n",
       "      <td>A8</td>\n",
       "      <td>1.380</td>\n",
       "      <td>39.000000</td>\n",
       "      <td>Passenger</td>\n",
       "      <td>62.000000</td>\n",
       "      <td>4.2</td>\n",
       "      <td>310.0</td>\n",
       "      <td>113.0</td>\n",
       "      <td>74.0</td>\n",
       "      <td>198.2</td>\n",
       "      <td>3.902000</td>\n",
       "      <td>23.7</td>\n",
       "      <td>21.0</td>\n",
       "      <td>2/27/2012</td>\n",
       "      <td>134.656858</td>\n",
       "    </tr>\n",
       "    <tr>\n",
       "      <th>7</th>\n",
       "      <td>BMW</td>\n",
       "      <td>323i</td>\n",
       "      <td>19.747</td>\n",
       "      <td>18.072975</td>\n",
       "      <td>Passenger</td>\n",
       "      <td>26.990000</td>\n",
       "      <td>2.5</td>\n",
       "      <td>170.0</td>\n",
       "      <td>107.3</td>\n",
       "      <td>68.4</td>\n",
       "      <td>176.0</td>\n",
       "      <td>3.179000</td>\n",
       "      <td>16.6</td>\n",
       "      <td>26.0</td>\n",
       "      <td>6/28/2011</td>\n",
       "      <td>71.191207</td>\n",
       "    </tr>\n",
       "    <tr>\n",
       "      <th>8</th>\n",
       "      <td>BMW</td>\n",
       "      <td>328i</td>\n",
       "      <td>9.231</td>\n",
       "      <td>28.675000</td>\n",
       "      <td>Passenger</td>\n",
       "      <td>33.400000</td>\n",
       "      <td>2.8</td>\n",
       "      <td>193.0</td>\n",
       "      <td>107.3</td>\n",
       "      <td>68.5</td>\n",
       "      <td>176.0</td>\n",
       "      <td>3.197000</td>\n",
       "      <td>16.6</td>\n",
       "      <td>24.0</td>\n",
       "      <td>1/29/2012</td>\n",
       "      <td>81.877069</td>\n",
       "    </tr>\n",
       "    <tr>\n",
       "      <th>9</th>\n",
       "      <td>BMW</td>\n",
       "      <td>528i</td>\n",
       "      <td>17.527</td>\n",
       "      <td>36.125000</td>\n",
       "      <td>Passenger</td>\n",
       "      <td>38.900000</td>\n",
       "      <td>2.8</td>\n",
       "      <td>193.0</td>\n",
       "      <td>111.4</td>\n",
       "      <td>70.9</td>\n",
       "      <td>188.0</td>\n",
       "      <td>3.472000</td>\n",
       "      <td>18.5</td>\n",
       "      <td>25.0</td>\n",
       "      <td>4/4/2011</td>\n",
       "      <td>83.998724</td>\n",
       "    </tr>\n",
       "    <tr>\n",
       "      <th>10</th>\n",
       "      <td>Buick</td>\n",
       "      <td>Century</td>\n",
       "      <td>91.561</td>\n",
       "      <td>12.475000</td>\n",
       "      <td>Passenger</td>\n",
       "      <td>21.975000</td>\n",
       "      <td>3.1</td>\n",
       "      <td>175.0</td>\n",
       "      <td>109.0</td>\n",
       "      <td>72.7</td>\n",
       "      <td>194.6</td>\n",
       "      <td>3.368000</td>\n",
       "      <td>17.5</td>\n",
       "      <td>25.0</td>\n",
       "      <td>11/2/2011</td>\n",
       "      <td>71.181451</td>\n",
       "    </tr>\n",
       "    <tr>\n",
       "      <th>11</th>\n",
       "      <td>Buick</td>\n",
       "      <td>Regal</td>\n",
       "      <td>39.350</td>\n",
       "      <td>13.740000</td>\n",
       "      <td>Passenger</td>\n",
       "      <td>25.300000</td>\n",
       "      <td>3.8</td>\n",
       "      <td>240.0</td>\n",
       "      <td>109.0</td>\n",
       "      <td>72.7</td>\n",
       "      <td>196.2</td>\n",
       "      <td>3.543000</td>\n",
       "      <td>17.5</td>\n",
       "      <td>23.0</td>\n",
       "      <td>9/3/2011</td>\n",
       "      <td>95.636703</td>\n",
       "    </tr>\n",
       "    <tr>\n",
       "      <th>12</th>\n",
       "      <td>Buick</td>\n",
       "      <td>Park Avenue</td>\n",
       "      <td>27.851</td>\n",
       "      <td>20.190000</td>\n",
       "      <td>Passenger</td>\n",
       "      <td>31.965000</td>\n",
       "      <td>3.8</td>\n",
       "      <td>205.0</td>\n",
       "      <td>113.8</td>\n",
       "      <td>74.7</td>\n",
       "      <td>206.8</td>\n",
       "      <td>3.778000</td>\n",
       "      <td>18.5</td>\n",
       "      <td>24.0</td>\n",
       "      <td>3/23/2012</td>\n",
       "      <td>85.828408</td>\n",
       "    </tr>\n",
       "    <tr>\n",
       "      <th>13</th>\n",
       "      <td>Buick</td>\n",
       "      <td>LeSabre</td>\n",
       "      <td>83.257</td>\n",
       "      <td>13.360000</td>\n",
       "      <td>Passenger</td>\n",
       "      <td>27.885000</td>\n",
       "      <td>3.8</td>\n",
       "      <td>205.0</td>\n",
       "      <td>112.2</td>\n",
       "      <td>73.5</td>\n",
       "      <td>200.0</td>\n",
       "      <td>3.591000</td>\n",
       "      <td>17.5</td>\n",
       "      <td>25.0</td>\n",
       "      <td>7/23/2011</td>\n",
       "      <td>84.254526</td>\n",
       "    </tr>\n",
       "    <tr>\n",
       "      <th>14</th>\n",
       "      <td>Cadillac</td>\n",
       "      <td>DeVille</td>\n",
       "      <td>63.729</td>\n",
       "      <td>22.525000</td>\n",
       "      <td>Passenger</td>\n",
       "      <td>39.895000</td>\n",
       "      <td>4.6</td>\n",
       "      <td>275.0</td>\n",
       "      <td>115.3</td>\n",
       "      <td>74.5</td>\n",
       "      <td>207.2</td>\n",
       "      <td>3.978000</td>\n",
       "      <td>18.5</td>\n",
       "      <td>22.0</td>\n",
       "      <td>2/23/2012</td>\n",
       "      <td>113.854598</td>\n",
       "    </tr>\n",
       "    <tr>\n",
       "      <th>15</th>\n",
       "      <td>Cadillac</td>\n",
       "      <td>Seville</td>\n",
       "      <td>15.943</td>\n",
       "      <td>27.100000</td>\n",
       "      <td>Passenger</td>\n",
       "      <td>44.475000</td>\n",
       "      <td>4.6</td>\n",
       "      <td>275.0</td>\n",
       "      <td>112.2</td>\n",
       "      <td>75.0</td>\n",
       "      <td>201.0</td>\n",
       "      <td>3.378026</td>\n",
       "      <td>18.5</td>\n",
       "      <td>22.0</td>\n",
       "      <td>4/29/2011</td>\n",
       "      <td>115.621358</td>\n",
       "    </tr>\n",
       "    <tr>\n",
       "      <th>16</th>\n",
       "      <td>Cadillac</td>\n",
       "      <td>Eldorado</td>\n",
       "      <td>6.536</td>\n",
       "      <td>25.725000</td>\n",
       "      <td>Passenger</td>\n",
       "      <td>39.665000</td>\n",
       "      <td>4.6</td>\n",
       "      <td>275.0</td>\n",
       "      <td>108.0</td>\n",
       "      <td>75.5</td>\n",
       "      <td>200.6</td>\n",
       "      <td>3.843000</td>\n",
       "      <td>19.0</td>\n",
       "      <td>22.0</td>\n",
       "      <td>11/27/2011</td>\n",
       "      <td>113.765874</td>\n",
       "    </tr>\n",
       "    <tr>\n",
       "      <th>17</th>\n",
       "      <td>Cadillac</td>\n",
       "      <td>Catera</td>\n",
       "      <td>11.185</td>\n",
       "      <td>18.225000</td>\n",
       "      <td>Passenger</td>\n",
       "      <td>31.010000</td>\n",
       "      <td>3.0</td>\n",
       "      <td>200.0</td>\n",
       "      <td>107.4</td>\n",
       "      <td>70.3</td>\n",
       "      <td>194.8</td>\n",
       "      <td>3.770000</td>\n",
       "      <td>18.0</td>\n",
       "      <td>22.0</td>\n",
       "      <td>9/28/2011</td>\n",
       "      <td>83.483094</td>\n",
       "    </tr>\n",
       "    <tr>\n",
       "      <th>18</th>\n",
       "      <td>Cadillac</td>\n",
       "      <td>Escalade</td>\n",
       "      <td>14.785</td>\n",
       "      <td>18.072975</td>\n",
       "      <td>Car</td>\n",
       "      <td>46.225000</td>\n",
       "      <td>5.7</td>\n",
       "      <td>255.0</td>\n",
       "      <td>117.5</td>\n",
       "      <td>77.0</td>\n",
       "      <td>201.2</td>\n",
       "      <td>5.572000</td>\n",
       "      <td>30.0</td>\n",
       "      <td>15.0</td>\n",
       "      <td>4/17/2012</td>\n",
       "      <td>109.509117</td>\n",
       "    </tr>\n",
       "    <tr>\n",
       "      <th>19</th>\n",
       "      <td>Chevrolet</td>\n",
       "      <td>Cavalier</td>\n",
       "      <td>145.519</td>\n",
       "      <td>9.250000</td>\n",
       "      <td>Passenger</td>\n",
       "      <td>13.260000</td>\n",
       "      <td>2.2</td>\n",
       "      <td>115.0</td>\n",
       "      <td>104.1</td>\n",
       "      <td>67.9</td>\n",
       "      <td>180.9</td>\n",
       "      <td>2.676000</td>\n",
       "      <td>14.3</td>\n",
       "      <td>27.0</td>\n",
       "      <td>8/17/2011</td>\n",
       "      <td>46.363347</td>\n",
       "    </tr>\n",
       "  </tbody>\n",
       "</table>\n",
       "</div>"
      ],
      "text/plain": [
       "   Manufacturer        Model  Sales_in_thousands  __year_resale_value  \\\n",
       "0         Acura      Integra              16.919            16.360000   \n",
       "1         Acura           TL              39.384            19.875000   \n",
       "2         Acura           CL              14.114            18.225000   \n",
       "3         Acura           RL               8.588            29.725000   \n",
       "4          Audi           A4              20.397            22.255000   \n",
       "5          Audi           A6              18.780            23.555000   \n",
       "6          Audi           A8               1.380            39.000000   \n",
       "7           BMW         323i              19.747            18.072975   \n",
       "8           BMW         328i               9.231            28.675000   \n",
       "9           BMW         528i              17.527            36.125000   \n",
       "10        Buick      Century              91.561            12.475000   \n",
       "11        Buick        Regal              39.350            13.740000   \n",
       "12        Buick  Park Avenue              27.851            20.190000   \n",
       "13        Buick      LeSabre              83.257            13.360000   \n",
       "14     Cadillac      DeVille              63.729            22.525000   \n",
       "15     Cadillac      Seville              15.943            27.100000   \n",
       "16     Cadillac     Eldorado               6.536            25.725000   \n",
       "17     Cadillac       Catera              11.185            18.225000   \n",
       "18     Cadillac     Escalade              14.785            18.072975   \n",
       "19    Chevrolet     Cavalier             145.519             9.250000   \n",
       "\n",
       "   Vehicle_type  Price_in_thousands  Engine_size  Horsepower  Wheelbase  \\\n",
       "0     Passenger           21.500000          1.8       140.0      101.2   \n",
       "1     Passenger           28.400000          3.2       225.0      108.1   \n",
       "2     Passenger           27.390755          3.2       225.0      106.9   \n",
       "3     Passenger           42.000000          3.5       210.0      114.6   \n",
       "4     Passenger           23.990000          1.8       150.0      102.6   \n",
       "5     Passenger           33.950000          2.8       200.0      108.7   \n",
       "6     Passenger           62.000000          4.2       310.0      113.0   \n",
       "7     Passenger           26.990000          2.5       170.0      107.3   \n",
       "8     Passenger           33.400000          2.8       193.0      107.3   \n",
       "9     Passenger           38.900000          2.8       193.0      111.4   \n",
       "10    Passenger           21.975000          3.1       175.0      109.0   \n",
       "11    Passenger           25.300000          3.8       240.0      109.0   \n",
       "12    Passenger           31.965000          3.8       205.0      113.8   \n",
       "13    Passenger           27.885000          3.8       205.0      112.2   \n",
       "14    Passenger           39.895000          4.6       275.0      115.3   \n",
       "15    Passenger           44.475000          4.6       275.0      112.2   \n",
       "16    Passenger           39.665000          4.6       275.0      108.0   \n",
       "17    Passenger           31.010000          3.0       200.0      107.4   \n",
       "18          Car           46.225000          5.7       255.0      117.5   \n",
       "19    Passenger           13.260000          2.2       115.0      104.1   \n",
       "\n",
       "    Width  Length  Curb_weight  Fuel_capacity  Fuel_efficiency Latest_Launch  \\\n",
       "0    67.3   172.4     2.639000           13.2             28.0      2/2/2012   \n",
       "1    70.3   192.9     3.517000           17.2             25.0      6/3/2011   \n",
       "2    70.6   192.0     3.470000           17.2             26.0      1/4/2012   \n",
       "3    71.4   196.6     3.850000           18.0             22.0     3/10/2011   \n",
       "4    68.2   178.0     2.998000           16.4             27.0     10/8/2011   \n",
       "5    76.1   192.0     3.561000           18.5             22.0      8/9/2011   \n",
       "6    74.0   198.2     3.902000           23.7             21.0     2/27/2012   \n",
       "7    68.4   176.0     3.179000           16.6             26.0     6/28/2011   \n",
       "8    68.5   176.0     3.197000           16.6             24.0     1/29/2012   \n",
       "9    70.9   188.0     3.472000           18.5             25.0      4/4/2011   \n",
       "10   72.7   194.6     3.368000           17.5             25.0     11/2/2011   \n",
       "11   72.7   196.2     3.543000           17.5             23.0      9/3/2011   \n",
       "12   74.7   206.8     3.778000           18.5             24.0     3/23/2012   \n",
       "13   73.5   200.0     3.591000           17.5             25.0     7/23/2011   \n",
       "14   74.5   207.2     3.978000           18.5             22.0     2/23/2012   \n",
       "15   75.0   201.0     3.378026           18.5             22.0     4/29/2011   \n",
       "16   75.5   200.6     3.843000           19.0             22.0    11/27/2011   \n",
       "17   70.3   194.8     3.770000           18.0             22.0     9/28/2011   \n",
       "18   77.0   201.2     5.572000           30.0             15.0     4/17/2012   \n",
       "19   67.9   180.9     2.676000           14.3             27.0     8/17/2011   \n",
       "\n",
       "    Power_perf_factor  \n",
       "0           58.280150  \n",
       "1           91.370778  \n",
       "2           77.043591  \n",
       "3           91.389779  \n",
       "4           62.777639  \n",
       "5           84.565105  \n",
       "6          134.656858  \n",
       "7           71.191207  \n",
       "8           81.877069  \n",
       "9           83.998724  \n",
       "10          71.181451  \n",
       "11          95.636703  \n",
       "12          85.828408  \n",
       "13          84.254526  \n",
       "14         113.854598  \n",
       "15         115.621358  \n",
       "16         113.765874  \n",
       "17          83.483094  \n",
       "18         109.509117  \n",
       "19          46.363347  "
      ]
     },
     "execution_count": 4,
     "metadata": {},
     "output_type": "execute_result"
    }
   ],
   "source": [
    "df.head(20)"
   ]
  },
  {
   "cell_type": "markdown",
   "metadata": {},
   "source": [
    "#### Now we are going to build a model that predicts the \"Price_in_thousands\" based on some features. We are going to try different models and see which one works best"
   ]
  },
  {
   "cell_type": "code",
   "execution_count": 5,
   "metadata": {},
   "outputs": [],
   "source": [
    "#import modules first\n",
    "from sklearn.linear_model import LinearRegression\n",
    "from sklearn.metrics import mean_squared_error\n",
    "from sklearn.model_selection import train_test_split\n",
    "from sklearn.model_selection import cross_val_score"
   ]
  },
  {
   "cell_type": "markdown",
   "metadata": {},
   "source": [
    "Now we are going to use the list of features to predict the 'Price_in_thousands', split the data into training and testing and determine the [Math Processing Error] on the test data"
   ]
  },
  {
   "cell_type": "code",
   "execution_count": 6,
   "metadata": {},
   "outputs": [],
   "source": [
    "features = ['Engine_size','Horsepower','__year_resale_value', 'Power_perf_factor']    \n",
    "X = df[features]\n",
    "Y = df['Price_in_thousands']"
   ]
  },
  {
   "cell_type": "code",
   "execution_count": 7,
   "metadata": {},
   "outputs": [],
   "source": [
    "x_train, x_test, y_train, y_test = train_test_split(X, Y, test_size=0.15, random_state=1)"
   ]
  },
  {
   "cell_type": "code",
   "execution_count": 8,
   "metadata": {},
   "outputs": [
    {
     "name": "stdout",
     "output_type": "stream",
     "text": [
      "number of test samples : 24\n",
      "number of training samples: 133\n"
     ]
    }
   ],
   "source": [
    "print(\"number of test samples :\", x_test.shape[0])\n",
    "print(\"number of training samples:\",x_train.shape[0])"
   ]
  },
  {
   "cell_type": "code",
   "execution_count": 9,
   "metadata": {},
   "outputs": [
    {
     "data": {
      "text/plain": [
       "LinearRegression()"
      ]
     },
     "execution_count": 9,
     "metadata": {},
     "output_type": "execute_result"
    }
   ],
   "source": [
    "lre=LinearRegression()\n",
    "\n",
    "lre.fit(x_train, y_train)"
   ]
  },
  {
   "cell_type": "code",
   "execution_count": 10,
   "metadata": {},
   "outputs": [
    {
     "data": {
      "text/plain": [
       "0.9693472723491181"
      ]
     },
     "execution_count": 10,
     "metadata": {},
     "output_type": "execute_result"
    }
   ],
   "source": [
    "lre.score(x_test, y_test)"
   ]
  },
  {
   "cell_type": "markdown",
   "metadata": {},
   "source": [
    "We are going to create a pipeline object that scales the data, performs a polynomial transform and fits a linear regression model."
   ]
  },
  {
   "cell_type": "code",
   "execution_count": 11,
   "metadata": {},
   "outputs": [],
   "source": [
    "from sklearn.preprocessing import StandardScaler,PolynomialFeatures\n",
    "from sklearn.pipeline import Pipeline"
   ]
  },
  {
   "cell_type": "code",
   "execution_count": 12,
   "metadata": {},
   "outputs": [],
   "source": [
    "Input=[('scale',StandardScaler()),('polynomial', PolynomialFeatures(include_bias=False)),('model',LinearRegression())]"
   ]
  },
  {
   "cell_type": "code",
   "execution_count": 13,
   "metadata": {},
   "outputs": [
    {
     "data": {
      "text/plain": [
       "Pipeline(steps=[('scale', StandardScaler()),\n",
       "                ('polynomial', PolynomialFeatures(include_bias=False)),\n",
       "                ('model', LinearRegression())])"
      ]
     },
     "execution_count": 13,
     "metadata": {},
     "output_type": "execute_result"
    }
   ],
   "source": [
    "pipe=Pipeline(Input)\n",
    "pipe"
   ]
  },
  {
   "cell_type": "code",
   "execution_count": 14,
   "metadata": {},
   "outputs": [
    {
     "data": {
      "text/plain": [
       "Pipeline(steps=[('scale', StandardScaler()),\n",
       "                ('polynomial', PolynomialFeatures(include_bias=False)),\n",
       "                ('model', LinearRegression())])"
      ]
     },
     "execution_count": 14,
     "metadata": {},
     "output_type": "execute_result"
    }
   ],
   "source": [
    "pipe.fit(X,df['Price_in_thousands'])"
   ]
  },
  {
   "cell_type": "code",
   "execution_count": 15,
   "metadata": {},
   "outputs": [
    {
     "data": {
      "text/plain": [
       "-2.114327731610029"
      ]
     },
     "execution_count": 15,
     "metadata": {},
     "output_type": "execute_result"
    }
   ],
   "source": [
    "lre.intercept_"
   ]
  },
  {
   "cell_type": "code",
   "execution_count": 16,
   "metadata": {},
   "outputs": [
    {
     "data": {
      "text/plain": [
       "array([-0.92726473, -0.62217006,  0.17302958,  1.88089039])"
      ]
     },
     "execution_count": 16,
     "metadata": {},
     "output_type": "execute_result"
    }
   ],
   "source": [
    "lre.coef_"
   ]
  },
  {
   "cell_type": "code",
   "execution_count": 17,
   "metadata": {},
   "outputs": [
    {
     "data": {
      "text/plain": [
       "0.9956347658652809"
      ]
     },
     "execution_count": 17,
     "metadata": {},
     "output_type": "execute_result"
    }
   ],
   "source": [
    "pipe.score(X,df['Price_in_thousands'])"
   ]
  },
  {
   "cell_type": "markdown",
   "metadata": {},
   "source": [
    "Now we are going to build a model using a Ridge Regression Model"
   ]
  },
  {
   "cell_type": "code",
   "execution_count": 18,
   "metadata": {},
   "outputs": [],
   "source": [
    "#Using a Ridge Regression model\n",
    "from sklearn.linear_model import Ridge"
   ]
  },
  {
   "cell_type": "code",
   "execution_count": 21,
   "metadata": {},
   "outputs": [
    {
     "data": {
      "text/plain": [
       "Ridge(alpha=0.1)"
      ]
     },
     "execution_count": 21,
     "metadata": {},
     "output_type": "execute_result"
    }
   ],
   "source": [
    "RigeModel=Ridge(alpha=0.1)\n",
    "RigeModel.fit(x_train, y_train)"
   ]
  },
  {
   "cell_type": "code",
   "execution_count": 20,
   "metadata": {},
   "outputs": [
    {
     "data": {
      "text/plain": [
       "0.9693111141972607"
      ]
     },
     "execution_count": 20,
     "metadata": {},
     "output_type": "execute_result"
    }
   ],
   "source": [
    "RigeModel.score(x_test, y_test)"
   ]
  },
  {
   "cell_type": "code",
   "execution_count": 22,
   "metadata": {},
   "outputs": [
    {
     "data": {
      "text/plain": [
       "0.9693111141972607"
      ]
     },
     "execution_count": 22,
     "metadata": {},
     "output_type": "execute_result"
    }
   ],
   "source": [
    "RigeModel.score(x_test, y_test)"
   ]
  },
  {
   "cell_type": "markdown",
   "metadata": {},
   "source": [
    "Now we are going to use a Polynomial Transform\n"
   ]
  },
  {
   "cell_type": "code",
   "execution_count": 23,
   "metadata": {},
   "outputs": [],
   "source": [
    "pr=PolynomialFeatures(degree=2)"
   ]
  },
  {
   "cell_type": "code",
   "execution_count": 24,
   "metadata": {},
   "outputs": [],
   "source": [
    "x_train_pr=pr.fit_transform(x_train[features])"
   ]
  },
  {
   "cell_type": "code",
   "execution_count": 25,
   "metadata": {},
   "outputs": [],
   "source": [
    "x_test_pr=pr.fit_transform(x_test[features])"
   ]
  },
  {
   "cell_type": "code",
   "execution_count": 26,
   "metadata": {},
   "outputs": [],
   "source": [
    "RigeModel=Ridge(alpha=0.1)"
   ]
  },
  {
   "cell_type": "code",
   "execution_count": 28,
   "metadata": {},
   "outputs": [
    {
     "data": {
      "text/plain": [
       "0.9595058664356463"
      ]
     },
     "execution_count": 28,
     "metadata": {},
     "output_type": "execute_result"
    }
   ],
   "source": [
    "RigeModel.fit(x_train_pr, y_train)\n",
    "RigeModel.score(x_test_pr, y_test)"
   ]
  },
  {
   "cell_type": "markdown",
   "metadata": {},
   "source": [
    "## Conclusion"
   ]
  },
  {
   "cell_type": "markdown",
   "metadata": {},
   "source": [
    "The answer to the question if a predictive model can be built to predict a car's price is YES. A predictive model can be built. I found that creating a pipeline object that scales the data, performs a polynomial transform and fits a linear regression model is the closest we can get to predict the price of a car based on some selected features. Our model has an accuracy of 99.56%."
   ]
  },
  {
   "cell_type": "code",
   "execution_count": null,
   "metadata": {},
   "outputs": [],
   "source": []
  }
 ],
 "metadata": {
  "kernelspec": {
   "display_name": "Python 3",
   "language": "python",
   "name": "python3"
  },
  "language_info": {
   "codemirror_mode": {
    "name": "ipython",
    "version": 3
   },
   "file_extension": ".py",
   "mimetype": "text/x-python",
   "name": "python",
   "nbconvert_exporter": "python",
   "pygments_lexer": "ipython3",
   "version": "3.7.6"
  }
 },
 "nbformat": 4,
 "nbformat_minor": 4
}
